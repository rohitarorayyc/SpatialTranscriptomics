{
 "cells": [
  {
   "cell_type": "code",
   "execution_count": 9,
   "metadata": {},
   "outputs": [],
   "source": [
    "from pathlib import Path, PurePath\n",
    "import csv\n",
    "from h5py import File\n",
    "import os"
   ]
  },
  {
   "cell_type": "code",
   "execution_count": 11,
   "metadata": {},
   "outputs": [],
   "source": [
    "barcode_dict = {1:\"sample_1\",2:\"sample_2\",3:\"sample_3\",4:\"sample_4\",5:\"sample_5\",\n",
    "                6:\"sample_6\",9:\"sample_7\",10:\"sample_8\",\n",
    "               11:\"sample_9\", 12:\"sample_10\",13:\"sample_11\",14:\"sample_12\"}"
   ]
  },
  {
   "cell_type": "code",
   "execution_count": 18,
   "metadata": {},
   "outputs": [],
   "source": [
    "#split inital positions csv\n",
    "with open('coordinates.csv') as fin:    \n",
    "    csvin = csv.DictReader(fin)\n",
    "    # Category -> open file lookup\n",
    "    outputs = {}\n",
    "    for row in csvin:\n",
    "        cat = row['Barcodes'].split(\"-\")[1]\n",
    "# Open a new file and write the header\n",
    "        if cat not in outputs:\n",
    "            fout = open(f\"positions_scvelo.csv\", 'a')\n",
    "            dw = csv.DictWriter(fout, fieldnames=csvin.fieldnames)\n",
    "            dw.writeheader()\n",
    "            outputs[cat] = fout, dw\n",
    "        # Always write the row\n",
    "        # switch this up etc.\n",
    "        if barcode_dict[int(cat)] == \"sample_1\":\n",
    "            row[\"Barcodes\"] = \"possorted_genome_bam_WJFV6:\" + row[\"Barcodes\"].split(\"-\")[0]+\"x\"\n",
    "        elif barcode_dict[int(cat)] == \"sample_2\":\n",
    "            row[\"Barcodes\"] = \"possorted_genome_bam_IBODB:\" + row[\"Barcodes\"].split(\"-\")[0]+\"x\"\n",
    "        elif barcode_dict[int(cat)] == \"sample_3\":\n",
    "            row[\"Barcodes\"] = \"possorted_genome_bam_IE2VP:\" + row[\"Barcodes\"].split(\"-\")[0]+\"x\"\n",
    "        elif barcode_dict[int(cat)] == \"sample_4\":\n",
    "            row[\"Barcodes\"] = \"possorted_genome_bam_4RUJG:\" + row[\"Barcodes\"].split(\"-\")[0]+\"x\"\n",
    "        elif barcode_dict[int(cat)] == \"sample_5\":\n",
    "            row[\"Barcodes\"] = \"possorted_genome_bam_NOEMP:\" + row[\"Barcodes\"].split(\"-\")[0]+\"x\"\n",
    "        elif barcode_dict[int(cat)] == \"sample_6\":\n",
    "            row[\"Barcodes\"] = \"possorted_genome_bam_I4FGA:\" + row[\"Barcodes\"].split(\"-\")[0]+\"x\"\n",
    "        elif barcode_dict[int(cat)] == \"sample_7\":\n",
    "            row[\"Barcodes\"] = \"possorted_genome_bam_30XDV:\" + row[\"Barcodes\"].split(\"-\")[0]+\"x\"\n",
    "        elif barcode_dict[int(cat)] == \"sample_8\":\n",
    "            row[\"Barcodes\"] = \"possorted_genome_bam_U0GTQ:\" + row[\"Barcodes\"].split(\"-\")[0]+\"x\"\n",
    "        elif barcode_dict[int(cat)] == \"sample_9\":\n",
    "            row[\"Barcodes\"] = \"possorted_genome_bam_W7L9N:\" + row[\"Barcodes\"].split(\"-\")[0]+\"x\"\n",
    "        elif barcode_dict[int(cat)] == \"sample_10\":\n",
    "            row[\"Barcodes\"] = \"possorted_genome_bam_A0TQE:\" + row[\"Barcodes\"].split(\"-\")[0]+\"x\"\n",
    "        elif barcode_dict[int(cat)] == \"sample_11\":\n",
    "            row[\"Barcodes\"] = \"possorted_genome_bam_EZTZD:\" + row[\"Barcodes\"].split(\"-\")[0]+\"x\"\n",
    "        elif barcode_dict[int(cat)] == \"sample_12\":\n",
    "            row[\"Barcodes\"] = \"possorted_genome_bam_DD1CT:\" + row[\"Barcodes\"].split(\"-\")[0]+\"x\"\n",
    "        outputs[cat][1].writerow(row)\n",
    "    # Close all the files\n",
    "    for fout, _ in outputs.values():\n",
    "        fout.close()"
   ]
  },
  {
   "cell_type": "code",
   "execution_count": 19,
   "metadata": {},
   "outputs": [],
   "source": [
    "barcode_dict = {1:\"sample_1\",2:\"sample_2\",3:\"sample_3\",4:\"sample_4\",5:\"sample_5\",\n",
    "                6:\"sample_6\",9:\"sample_7\",10:\"sample_8\",\n",
    "               11:\"sample_9\", 12:\"sample_10\",13:\"sample_11\",14:\"sample_12\"}"
   ]
  },
  {
   "cell_type": "code",
   "execution_count": 20,
   "metadata": {},
   "outputs": [],
   "source": [
    "import pandas as pd\n",
    "import scvelo as scv\n",
    "import numpy as np"
   ]
  },
  {
   "cell_type": "code",
   "execution_count": 21,
   "metadata": {},
   "outputs": [],
   "source": [
    "with open(\"meta_data.csv\") as fin:    \n",
    "    csvin = csv.DictReader(fin)\n",
    "    # Category -> open file lookup\n",
    "    outputs = {}\n",
    "    for row in csvin:\n",
    "        cat = row['Barcode'].split(\"-\")[1]\n",
    "# Open a new file and write the header\n",
    "        if cat not in outputs:\n",
    "            fout = open(\"scvelo_metadata_headers.csv\", 'a')\n",
    "            dw = csv.DictWriter(fout, fieldnames=csvin.fieldnames)\n",
    "            dw.writeheader()\n",
    "            outputs[cat] = fout, dw\n",
    "        # Always write the row\n",
    "        # switch this up etc.\n",
    "        if barcode_dict[int(cat)] == \"sample_1\":\n",
    "            row[\"Barcode\"] = \"possorted_genome_bam_WJFV6:\" + row[\"Barcode\"].split(\"-\")[0]+\"x\"\n",
    "        elif barcode_dict[int(cat)] == \"sample_2\":\n",
    "            row[\"Barcode\"] = \"possorted_genome_bam_IBODB:\" + row[\"Barcode\"].split(\"-\")[0]+\"x\"\n",
    "        elif barcode_dict[int(cat)] == \"sample_3\":\n",
    "            row[\"Barcode\"] = \"possorted_genome_bam_IE2VP:\" + row[\"Barcode\"].split(\"-\")[0]+\"x\"\n",
    "        elif barcode_dict[int(cat)] == \"sample_4\":\n",
    "            row[\"Barcode\"] = \"possorted_genome_bam_4RUJG:\" + row[\"Barcode\"].split(\"-\")[0]+\"x\"\n",
    "        elif barcode_dict[int(cat)] == \"sample_5\":\n",
    "            row[\"Barcode\"] = \"possorted_genome_bam_NOEMP:\" + row[\"Barcode\"].split(\"-\")[0]+\"x\"\n",
    "        elif barcode_dict[int(cat)] == \"sample_6\":\n",
    "            row[\"Barcode\"] = \"possorted_genome_bam_I4FGA:\" + row[\"Barcode\"].split(\"-\")[0]+\"x\"\n",
    "        elif barcode_dict[int(cat)] == \"sample_7\":\n",
    "            row[\"Barcode\"] = \"possorted_genome_bam_30XDV:\" + row[\"Barcode\"].split(\"-\")[0]+\"x\"\n",
    "        elif barcode_dict[int(cat)] == \"sample_8\":\n",
    "            row[\"Barcode\"] = \"possorted_genome_bam_U0GTQ:\" + row[\"Barcode\"].split(\"-\")[0]+\"x\"\n",
    "        elif barcode_dict[int(cat)] == \"sample_9\":\n",
    "            row[\"Barcode\"] = \"possorted_genome_bam_W7L9N:\" + row[\"Barcode\"].split(\"-\")[0]+\"x\"\n",
    "        elif barcode_dict[int(cat)] == \"sample_10\":\n",
    "            row[\"Barcode\"] = \"possorted_genome_bam_A0TQE:\" + row[\"Barcode\"].split(\"-\")[0]+\"x\"\n",
    "        elif barcode_dict[int(cat)] == \"sample_11\":\n",
    "            row[\"Barcode\"] = \"possorted_genome_bam_EZTZD:\" + row[\"Barcode\"].split(\"-\")[0]+\"x\"\n",
    "        elif barcode_dict[int(cat)] == \"sample_12\":\n",
    "            row[\"Barcode\"] = \"possorted_genome_bam_DD1CT:\" + row[\"Barcode\"].split(\"-\")[0]+\"x\"\n",
    "        outputs[cat][1].writerow(row)\n",
    "    # Close all the files\n",
    "    for fout, _ in outputs.values():\n",
    "        fout.close()"
   ]
  }
 ],
 "metadata": {
  "kernelspec": {
   "display_name": "Python 3 (ipykernel)",
   "language": "python",
   "name": "python3"
  },
  "language_info": {
   "codemirror_mode": {
    "name": "ipython",
    "version": 3
   },
   "file_extension": ".py",
   "mimetype": "text/x-python",
   "name": "python",
   "nbconvert_exporter": "python",
   "pygments_lexer": "ipython3",
   "version": "3.9.12"
  }
 },
 "nbformat": 4,
 "nbformat_minor": 4
}
